{
 "cells": [
  {
   "cell_type": "markdown",
   "metadata": {
    "id": "8guYh-VR7nlX"
   },
   "source": [
    "# Part 1 - Extracting and Saving Data from Yelp API"
   ]
  },
  {
   "cell_type": "markdown",
   "metadata": {},
   "source": [
    "## Obective"
   ]
  },
  {
   "cell_type": "markdown",
   "metadata": {
    "id": "8guYh-VR7nlX"
   },
   "source": [
    "- For this CodeAlong, we will be working with the Yelp API. \n",
    "- You will use the the Yelp API to search your home town for a cuisine type of your choice.\n",
    "- Next class, we will then use Plotly Express to create a map with the Mapbox API to visualize the results.\n",
    "    \n",
    "    "
   ]
  },
  {
   "cell_type": "markdown",
   "metadata": {
    "id": "8guYh-VR7nlX"
   },
   "source": [
    "## Tools You Will Use\n",
    "- Part 1:\n",
    "    - Yelp API:\n",
    "        - Getting Started: \n",
    "            - https://www.yelp.com/developers/documentation/v3/get_started\n",
    "\n",
    "    - `YelpAPI` python package\n",
    "        -  \"YelpAPI\": https://github.com/gfairchild/yelpapi\n",
    "- Part 2:\n",
    "\n",
    "    - Plotly Express: https://plotly.com/python/getting-started/\n",
    "        - With Mapbox API: https://www.mapbox.com/\n",
    "        - `px.scatter_mapbox` [Documentation](https://plotly.com/python/scattermapbox/): \n",
    "\n",
    "\n"
   ]
  },
  {
   "cell_type": "markdown",
   "metadata": {},
   "source": [
    "### Applying Code From\n",
    "- Efficient API Calls Lesson Link: https://login.codingdojo.com/m/376/12529/88078"
   ]
  },
  {
   "cell_type": "code",
   "execution_count": 1,
   "metadata": {},
   "outputs": [],
   "source": [
    "# Standard Imports\n",
    "import numpy as np\n",
    "import pandas as pd\n",
    "import matplotlib.pyplot as plt\n",
    "import seaborn as sns\n",
    "\n",
    "# Additional Imports\n",
    "# os - for saving and loading files\n",
    "# json - to work with json files\n",
    "# math - to round up results\n",
    "# time - to add a short pause to not overwhelm the server\n",
    "import os, json, math, time\n",
    "\n",
    "# to make yelpapi calls\n",
    "from yelpapi import YelpAPI\n",
    "\n",
    "# progress bar from tqdm_notebook\n",
    "from tqdm.notebook import tqdm_notebook"
   ]
  },
  {
   "cell_type": "code",
   "execution_count": 2,
   "metadata": {},
   "outputs": [
    {
     "name": "stdout",
     "output_type": "stream",
     "text": [
      "Requirement already satisfied: yelpapi in c:\\users\\james\\anaconda3\\envs\\dojo-env\\lib\\site-packages (2.5.0)\n",
      "Requirement already satisfied: requests in c:\\users\\james\\anaconda3\\envs\\dojo-env\\lib\\site-packages (from yelpapi) (2.28.1)\n",
      "Requirement already satisfied: charset-normalizer<3,>=2 in c:\\users\\james\\anaconda3\\envs\\dojo-env\\lib\\site-packages (from requests->yelpapi) (2.0.4)\n",
      "Requirement already satisfied: certifi>=2017.4.17 in c:\\users\\james\\anaconda3\\envs\\dojo-env\\lib\\site-packages (from requests->yelpapi) (2022.9.24)\n",
      "Requirement already satisfied: idna<4,>=2.5 in c:\\users\\james\\anaconda3\\envs\\dojo-env\\lib\\site-packages (from requests->yelpapi) (3.4)\n",
      "Requirement already satisfied: urllib3<1.27,>=1.21.1 in c:\\users\\james\\anaconda3\\envs\\dojo-env\\lib\\site-packages (from requests->yelpapi) (1.26.13)\n",
      "Requirement already satisfied: tqdm in c:\\users\\james\\anaconda3\\envs\\dojo-env\\lib\\site-packages (4.64.1)\n",
      "Requirement already satisfied: colorama in c:\\users\\james\\anaconda3\\envs\\dojo-env\\lib\\site-packages (from tqdm) (0.4.5)\n"
     ]
    }
   ],
   "source": [
    "!pip install yelpapi\n",
    "!pip install tqdm"
   ]
  },
  {
   "cell_type": "markdown",
   "metadata": {
    "id": "1l3Z-79nBSX9"
   },
   "source": [
    "## 1. Registering for Required APIs"
   ]
  },
  {
   "cell_type": "markdown",
   "metadata": {
    "id": "1l3Z-79nBSX9"
   },
   "source": [
    "\n",
    "- Yelp: https://www.yelp.com/developers/documentation/v3/get_started\n"
   ]
  },
  {
   "cell_type": "markdown",
   "metadata": {},
   "source": [
    "> Check the official API documentation to know what arguments we can search for: https://www.yelp.com/developers/documentation/v3/business_search"
   ]
  },
  {
   "cell_type": "markdown",
   "metadata": {},
   "source": [
    "### Load Credentials and Create Yelp API Object"
   ]
  },
  {
   "cell_type": "code",
   "execution_count": 3,
   "metadata": {
    "ExecuteTime": {
     "end_time": "2022-03-25T18:20:46.629934Z",
     "start_time": "2022-03-25T18:20:45.915864Z"
    },
    "colab": {
     "base_uri": "https://localhost:8080/"
    },
    "id": "xJYqVvNkE36a",
    "outputId": "67798160-dea2-41fc-9040-2b3833efa560"
   },
   "outputs": [],
   "source": [
    "with open('/Users/james/.secret/yelp_api.json', 'r') as f:\n",
    "    login = json.load(f)"
   ]
  },
  {
   "cell_type": "code",
   "execution_count": 4,
   "metadata": {},
   "outputs": [
    {
     "data": {
      "text/plain": [
       "dict_keys(['client-id', 'api-key'])"
      ]
     },
     "execution_count": 4,
     "metadata": {},
     "output_type": "execute_result"
    }
   ],
   "source": [
    "login.keys()"
   ]
  },
  {
   "cell_type": "code",
   "execution_count": 7,
   "metadata": {},
   "outputs": [],
   "source": [
    "# login.items()\n",
    "# login['api-key']"
   ]
  },
  {
   "cell_type": "code",
   "execution_count": 8,
   "metadata": {},
   "outputs": [],
   "source": [
    "yelp = YelpAPI(login['api-key'], timeout_s=None )"
   ]
  },
  {
   "cell_type": "markdown",
   "metadata": {},
   "source": [
    "### Define Search Terms and File Paths"
   ]
  },
  {
   "cell_type": "code",
   "execution_count": 10,
   "metadata": {},
   "outputs": [],
   "source": [
    "# set our API call parameters and filename before the first call\n",
    "location = 'Seattle, WA 98122'\n",
    "term = 'pizza'"
   ]
  },
  {
   "cell_type": "code",
   "execution_count": 11,
   "metadata": {},
   "outputs": [
    {
     "data": {
      "text/plain": [
       "'Seattle'"
      ]
     },
     "execution_count": 11,
     "metadata": {},
     "output_type": "execute_result"
    }
   ],
   "source": [
    "location.split(',')[0]"
   ]
  },
  {
   "cell_type": "code",
   "execution_count": 29,
   "metadata": {},
   "outputs": [
    {
     "data": {
      "text/plain": [
       "'Data/Seattle-pizza.json'"
      ]
     },
     "execution_count": 29,
     "metadata": {},
     "output_type": "execute_result"
    }
   ],
   "source": [
    "## Specify fodler for saving data\n",
    "FOLDER = 'Data/'\n",
    "\n",
    "os.makedirs(FOLDER, exist_ok = True)\n",
    "# Specifying JSON_FILE filename (can include a folder)\n",
    "JSON_FILE = FOLDER+f\"{location.split(',')[0]}-{term}.json\"\n",
    "JSON_FILE"
   ]
  },
  {
   "cell_type": "markdown",
   "metadata": {},
   "source": [
    "### Check if Json File exists and Create it if it doesn't"
   ]
  },
  {
   "cell_type": "code",
   "execution_count": 30,
   "metadata": {},
   "outputs": [
    {
     "name": "stdout",
     "output_type": "stream",
     "text": [
      "[i] Data/Seattle-pizza.json not found. Saving empty list to file.\n"
     ]
    }
   ],
   "source": [
    "## Check if JSON_FILE exists\n",
    "file_exists = os.path.isfile(JSON_FILE)\n",
    "## If it does not exist: \n",
    "if file_exists == False:\n",
    "    ## CREATE ANY NEEDED FOLDERS\n",
    "    # Get the Folder Name only\n",
    "    folder = os.path.dirname(JSON_FILE)\n",
    "    \n",
    "    ## If JSON_FILE included a folder:\n",
    "    if len(folder) > 0:\n",
    "        # create the folder\n",
    "        os.makedirs(folder, exist_ok = True)\n",
    "        \n",
    "        \n",
    "    ## INFORM USER AND SAVE EMPTY LIST\n",
    "    print(f'[i] {JSON_FILE} not found. Saving empty list to file.')\n",
    "    \n",
    "    \n",
    "    ## save the first page of results\n",
    "    with open(JSON_FILE, 'w') as f:\n",
    "        json.dump([],f)\n",
    "        \n",
    "## If it exists, inform user\n",
    "else:\n",
    "    print(f'[i] {JSON_FILE} already exists.')"
   ]
  },
  {
   "cell_type": "markdown",
   "metadata": {},
   "source": [
    "### Load JSON FIle and account for previous results"
   ]
  },
  {
   "cell_type": "code",
   "execution_count": null,
   "metadata": {},
   "outputs": [],
   "source": [
    "## Load previous results and use len of results for offset\n",
    "\n",
    "## set offset based on previous results\n"
   ]
  },
  {
   "cell_type": "markdown",
   "metadata": {},
   "source": [
    "### Make the first API call to get the first page of data"
   ]
  },
  {
   "cell_type": "markdown",
   "metadata": {},
   "source": [
    "- We will use this first result to check:\n",
    "    - how many total results there are?\n",
    "    - Where is the actual data we want to save?\n",
    "    - how many results do we get at a time?\n"
   ]
  },
  {
   "cell_type": "code",
   "execution_count": 31,
   "metadata": {},
   "outputs": [],
   "source": [
    "# use our yelp_api variable's search_query method to perform our API call\n",
    "results = yelp.search_query(term = term, location = location)"
   ]
  },
  {
   "cell_type": "code",
   "execution_count": 32,
   "metadata": {},
   "outputs": [
    {
     "data": {
      "text/plain": [
       "dict"
      ]
     },
     "execution_count": 32,
     "metadata": {},
     "output_type": "execute_result"
    }
   ],
   "source": [
    "type(results)"
   ]
  },
  {
   "cell_type": "code",
   "execution_count": 33,
   "metadata": {},
   "outputs": [
    {
     "data": {
      "text/plain": [
       "3"
      ]
     },
     "execution_count": 33,
     "metadata": {},
     "output_type": "execute_result"
    }
   ],
   "source": [
    "len(results)"
   ]
  },
  {
   "cell_type": "code",
   "execution_count": 34,
   "metadata": {},
   "outputs": [
    {
     "data": {
      "text/plain": [
       "dict_keys(['businesses', 'total', 'region'])"
      ]
     },
     "execution_count": 34,
     "metadata": {},
     "output_type": "execute_result"
    }
   ],
   "source": [
    "results.keys()"
   ]
  },
  {
   "cell_type": "code",
   "execution_count": 38,
   "metadata": {},
   "outputs": [
    {
     "data": {
      "text/plain": [
       "846"
      ]
     },
     "execution_count": 38,
     "metadata": {},
     "output_type": "execute_result"
    }
   ],
   "source": [
    "results['total']"
   ]
  },
  {
   "cell_type": "code",
   "execution_count": 39,
   "metadata": {},
   "outputs": [
    {
     "data": {
      "text/plain": [
       "{'center': {'longitude': -122.29568481445312, 'latitude': 47.61309534151991}}"
      ]
     },
     "execution_count": 39,
     "metadata": {},
     "output_type": "execute_result"
    }
   ],
   "source": [
    "results['region']"
   ]
  },
  {
   "cell_type": "code",
   "execution_count": 40,
   "metadata": {},
   "outputs": [
    {
     "data": {
      "text/plain": [
       "[{'id': 'EwrAoy7XbX8nfemZdDvupA',\n",
       "  'alias': 'cornelly-seattle',\n",
       "  'name': 'Cornelly',\n",
       "  'image_url': 'https://s3-media4.fl.yelpcdn.com/bphoto/HlYYBTxylVQf6C-WZy-Ghw/o.jpg',\n",
       "  'is_closed': False,\n",
       "  'url': 'https://www.yelp.com/biz/cornelly-seattle?adjust_creative=xozgoVO5XbSRaEUubsjpSQ&utm_campaign=yelp_api_v3&utm_medium=api_v3_business_search&utm_source=xozgoVO5XbSRaEUubsjpSQ',\n",
       "  'review_count': 105,\n",
       "  'categories': [{'alias': 'pizza', 'title': 'Pizza'},\n",
       "   {'alias': 'salad', 'title': 'Salad'},\n",
       "   {'alias': 'pastashops', 'title': 'Pasta Shops'}],\n",
       "  'rating': 4.5,\n",
       "  'coordinates': {'latitude': 47.624577, 'longitude': -122.325577},\n",
       "  'transactions': ['delivery', 'pickup'],\n",
       "  'location': {'address1': '601 Summit Ave E',\n",
       "   'address2': '',\n",
       "   'address3': None,\n",
       "   'city': 'Seattle',\n",
       "   'zip_code': '98102',\n",
       "   'country': 'US',\n",
       "   'state': 'WA',\n",
       "   'display_address': ['601 Summit Ave E', 'Seattle, WA 98102']},\n",
       "  'phone': '',\n",
       "  'display_phone': '',\n",
       "  'distance': 2578.701392645466},\n",
       " {'id': 't-Z9bvmlgUyDtomGmttrUQ',\n",
       "  'alias': 'guerilla-pizza-kitchen-seattle',\n",
       "  'name': 'Guerilla Pizza Kitchen',\n",
       "  'image_url': 'https://s3-media4.fl.yelpcdn.com/bphoto/uMrdEjc9J_4Tb1PtAb71UA/o.jpg',\n",
       "  'is_closed': False,\n",
       "  'url': 'https://www.yelp.com/biz/guerilla-pizza-kitchen-seattle?adjust_creative=xozgoVO5XbSRaEUubsjpSQ&utm_campaign=yelp_api_v3&utm_medium=api_v3_business_search&utm_source=xozgoVO5XbSRaEUubsjpSQ',\n",
       "  'review_count': 1,\n",
       "  'categories': [{'alias': 'pizza', 'title': 'Pizza'},\n",
       "   {'alias': 'popuprestaurants', 'title': 'Pop-Up Restaurants'}],\n",
       "  'rating': 5.0,\n",
       "  'coordinates': {'latitude': 47.608127, 'longitude': -122.302435},\n",
       "  'transactions': [],\n",
       "  'location': {'address1': '2300 E Cherry St',\n",
       "   'address2': '',\n",
       "   'address3': None,\n",
       "   'city': 'Seattle',\n",
       "   'zip_code': '98122',\n",
       "   'country': 'US',\n",
       "   'state': 'WA',\n",
       "   'display_address': ['2300 E Cherry St', 'Seattle, WA 98122']},\n",
       "  'phone': '',\n",
       "  'display_phone': '',\n",
       "  'distance': 749.1731129459927},\n",
       " {'id': 'fxyHWmfzcdjImgQ_UYHoTw',\n",
       "  'alias': 'bar-cotto-seattle',\n",
       "  'name': 'Bar Cotto',\n",
       "  'image_url': 'https://s3-media3.fl.yelpcdn.com/bphoto/07DoPFljyge3LApw8qW-cg/o.jpg',\n",
       "  'is_closed': False,\n",
       "  'url': 'https://www.yelp.com/biz/bar-cotto-seattle?adjust_creative=xozgoVO5XbSRaEUubsjpSQ&utm_campaign=yelp_api_v3&utm_medium=api_v3_business_search&utm_source=xozgoVO5XbSRaEUubsjpSQ',\n",
       "  'review_count': 347,\n",
       "  'categories': [{'alias': 'bars', 'title': 'Bars'},\n",
       "   {'alias': 'pizza', 'title': 'Pizza'},\n",
       "   {'alias': 'italian', 'title': 'Italian'}],\n",
       "  'rating': 4.5,\n",
       "  'coordinates': {'latitude': 47.6146934, 'longitude': -122.3127642},\n",
       "  'transactions': ['delivery', 'pickup'],\n",
       "  'price': '$$',\n",
       "  'location': {'address1': '1546 15th Ave',\n",
       "   'address2': '',\n",
       "   'address3': '',\n",
       "   'city': 'Seattle',\n",
       "   'zip_code': '98122',\n",
       "   'country': 'US',\n",
       "   'state': 'WA',\n",
       "   'display_address': ['1546 15th Ave', 'Seattle, WA 98122']},\n",
       "  'phone': '+12068388081',\n",
       "  'display_phone': '(206) 838-8081',\n",
       "  'distance': 1292.526796461093},\n",
       " {'id': 'M9xzvwgK58T0w7wvXedvuQ',\n",
       "  'alias': 'hot-mamas-pizza-seattle',\n",
       "  'name': \"Hot Mama's Pizza\",\n",
       "  'image_url': 'https://s3-media4.fl.yelpcdn.com/bphoto/LEL1qjUtdXO8aUPV9U-WwQ/o.jpg',\n",
       "  'is_closed': False,\n",
       "  'url': 'https://www.yelp.com/biz/hot-mamas-pizza-seattle?adjust_creative=xozgoVO5XbSRaEUubsjpSQ&utm_campaign=yelp_api_v3&utm_medium=api_v3_business_search&utm_source=xozgoVO5XbSRaEUubsjpSQ',\n",
       "  'review_count': 967,\n",
       "  'categories': [{'alias': 'pizza', 'title': 'Pizza'}],\n",
       "  'rating': 4.0,\n",
       "  'coordinates': {'latitude': 47.615379179632, 'longitude': -122.32323073437},\n",
       "  'transactions': ['delivery', 'pickup'],\n",
       "  'price': '$',\n",
       "  'location': {'address1': '700 E Pine St',\n",
       "   'address2': '',\n",
       "   'address3': '',\n",
       "   'city': 'Seattle',\n",
       "   'zip_code': '98122',\n",
       "   'country': 'US',\n",
       "   'state': 'WA',\n",
       "   'display_address': ['700 E Pine St', 'Seattle, WA 98122']},\n",
       "  'phone': '+12063226444',\n",
       "  'display_phone': '(206) 322-6444',\n",
       "  'distance': 2080.359405276959},\n",
       " {'id': 'FVbwpNA1uZEGiM02N4XtUg',\n",
       "  'alias': 'blotto-seattle',\n",
       "  'name': 'Blotto',\n",
       "  'image_url': 'https://s3-media3.fl.yelpcdn.com/bphoto/Q4Y1CwKmapk89MYpoxCu7Q/o.jpg',\n",
       "  'is_closed': False,\n",
       "  'url': 'https://www.yelp.com/biz/blotto-seattle?adjust_creative=xozgoVO5XbSRaEUubsjpSQ&utm_campaign=yelp_api_v3&utm_medium=api_v3_business_search&utm_source=xozgoVO5XbSRaEUubsjpSQ',\n",
       "  'review_count': 43,\n",
       "  'categories': [{'alias': 'pizza', 'title': 'Pizza'}],\n",
       "  'rating': 4.5,\n",
       "  'coordinates': {'latitude': 47.61849, 'longitude': -122.31664},\n",
       "  'transactions': [],\n",
       "  'location': {'address1': '1830 12th Ave',\n",
       "   'address2': '',\n",
       "   'address3': None,\n",
       "   'city': 'Seattle',\n",
       "   'zip_code': '98122',\n",
       "   'country': 'US',\n",
       "   'state': 'WA',\n",
       "   'display_address': ['1830 12th Ave', 'Seattle, WA 98122']},\n",
       "  'phone': '+12064031809',\n",
       "  'display_phone': '(206) 403-1809',\n",
       "  'distance': 1686.8621759079958},\n",
       " {'id': 'ugTsEtjvwRhteac_6JcuPw',\n",
       "  'alias': 'italian-family-pizza-seattle',\n",
       "  'name': 'Italian Family Pizza',\n",
       "  'image_url': 'https://s3-media1.fl.yelpcdn.com/bphoto/-aZrUuV6RAY4u3mgJgB4gA/o.jpg',\n",
       "  'is_closed': False,\n",
       "  'url': 'https://www.yelp.com/biz/italian-family-pizza-seattle?adjust_creative=xozgoVO5XbSRaEUubsjpSQ&utm_campaign=yelp_api_v3&utm_medium=api_v3_business_search&utm_source=xozgoVO5XbSRaEUubsjpSQ',\n",
       "  'review_count': 1005,\n",
       "  'categories': [{'alias': 'pizza', 'title': 'Pizza'},\n",
       "   {'alias': 'italian', 'title': 'Italian'}],\n",
       "  'rating': 4.0,\n",
       "  'coordinates': {'latitude': 47.60937, 'longitude': -122.32546},\n",
       "  'transactions': ['delivery', 'pickup'],\n",
       "  'price': '$$',\n",
       "  'location': {'address1': '1028 Madison St',\n",
       "   'address2': None,\n",
       "   'address3': '',\n",
       "   'city': 'Seattle',\n",
       "   'zip_code': '98104',\n",
       "   'country': 'US',\n",
       "   'state': 'WA',\n",
       "   'display_address': ['1028 Madison St', 'Seattle, WA 98104']},\n",
       "  'phone': '+12065380040',\n",
       "  'display_phone': '(206) 538-0040',\n",
       "  'distance': 2271.307105309817},\n",
       " {'id': 'Wi6LFkjIausYj277ru6pqg',\n",
       "  'alias': 'humble-pie-seattle',\n",
       "  'name': 'Humble Pie',\n",
       "  'image_url': 'https://s3-media4.fl.yelpcdn.com/bphoto/A08GOZ76GAAH6Sm_0_YAeQ/o.jpg',\n",
       "  'is_closed': False,\n",
       "  'url': 'https://www.yelp.com/biz/humble-pie-seattle?adjust_creative=xozgoVO5XbSRaEUubsjpSQ&utm_campaign=yelp_api_v3&utm_medium=api_v3_business_search&utm_source=xozgoVO5XbSRaEUubsjpSQ',\n",
       "  'review_count': 366,\n",
       "  'categories': [{'alias': 'pizza', 'title': 'Pizza'}],\n",
       "  'rating': 4.0,\n",
       "  'coordinates': {'latitude': 47.5976491915013,\n",
       "   'longitude': -122.313305988361},\n",
       "  'transactions': ['delivery'],\n",
       "  'price': '$$',\n",
       "  'location': {'address1': '525 Rainier Ave S',\n",
       "   'address2': '',\n",
       "   'address3': '',\n",
       "   'city': 'Seattle',\n",
       "   'zip_code': '98144',\n",
       "   'country': 'US',\n",
       "   'state': 'WA',\n",
       "   'display_address': ['525 Rainier Ave S', 'Seattle, WA 98144']},\n",
       "  'phone': '+12063295133',\n",
       "  'display_phone': '(206) 329-5133',\n",
       "  'distance': 2166.834011449786},\n",
       " {'id': 'IrohtoYjnAR_vc6w6CRCxA',\n",
       "  'alias': 'moto-seattle',\n",
       "  'name': 'Moto',\n",
       "  'image_url': 'https://s3-media2.fl.yelpcdn.com/bphoto/FBmvjyC1wH7-N_lIE_M_lQ/o.jpg',\n",
       "  'is_closed': False,\n",
       "  'url': 'https://www.yelp.com/biz/moto-seattle?adjust_creative=xozgoVO5XbSRaEUubsjpSQ&utm_campaign=yelp_api_v3&utm_medium=api_v3_business_search&utm_source=xozgoVO5XbSRaEUubsjpSQ',\n",
       "  'review_count': 157,\n",
       "  'categories': [{'alias': 'pizza', 'title': 'Pizza'},\n",
       "   {'alias': 'icecream', 'title': 'Ice Cream & Frozen Yogurt'}],\n",
       "  'rating': 4.5,\n",
       "  'coordinates': {'latitude': 47.56207, 'longitude': -122.38509},\n",
       "  'transactions': ['delivery'],\n",
       "  'price': '$$',\n",
       "  'location': {'address1': '4526 42nd Ave SW',\n",
       "   'address2': '',\n",
       "   'address3': None,\n",
       "   'city': 'Seattle',\n",
       "   'zip_code': '98116',\n",
       "   'country': 'US',\n",
       "   'state': 'WA',\n",
       "   'display_address': ['4526 42nd Ave SW', 'Seattle, WA 98116']},\n",
       "  'phone': '+12064208880',\n",
       "  'display_phone': '(206) 420-8880',\n",
       "  'distance': 8784.07572205985},\n",
       " {'id': '-FOAQv22SXtSBs7nptI3UA',\n",
       "  'alias': 'serious-pie-downtown-seattle-2',\n",
       "  'name': 'Serious Pie Downtown',\n",
       "  'image_url': 'https://s3-media2.fl.yelpcdn.com/bphoto/dy0pJ5hIEX5APuotqrgF7A/o.jpg',\n",
       "  'is_closed': False,\n",
       "  'url': 'https://www.yelp.com/biz/serious-pie-downtown-seattle-2?adjust_creative=xozgoVO5XbSRaEUubsjpSQ&utm_campaign=yelp_api_v3&utm_medium=api_v3_business_search&utm_source=xozgoVO5XbSRaEUubsjpSQ',\n",
       "  'review_count': 4501,\n",
       "  'categories': [{'alias': 'pizza', 'title': 'Pizza'},\n",
       "   {'alias': 'salad', 'title': 'Salad'},\n",
       "   {'alias': 'bars', 'title': 'Bars'}],\n",
       "  'rating': 4.0,\n",
       "  'coordinates': {'latitude': 47.61304626911818,\n",
       "   'longitude': -122.34035259077139},\n",
       "  'transactions': ['pickup', 'delivery'],\n",
       "  'price': '$$',\n",
       "  'location': {'address1': '2001 4th Ave',\n",
       "   'address2': None,\n",
       "   'address3': '',\n",
       "   'city': 'Seattle',\n",
       "   'zip_code': '98121',\n",
       "   'country': 'US',\n",
       "   'state': 'WA',\n",
       "   'display_address': ['2001 4th Ave', 'Seattle, WA 98121']},\n",
       "  'phone': '+12068387388',\n",
       "  'display_phone': '(206) 838-7388',\n",
       "  'distance': 3348.3092758278417},\n",
       " {'id': 'kVqwgAjEPffEyMJSzpfM_A',\n",
       "  'alias': 'pagliacci-pizza-seattle-26',\n",
       "  'name': 'Pagliacci Pizza',\n",
       "  'image_url': 'https://s3-media3.fl.yelpcdn.com/bphoto/7thHN-i4t_OPPnDIHqYtig/o.jpg',\n",
       "  'is_closed': False,\n",
       "  'url': 'https://www.yelp.com/biz/pagliacci-pizza-seattle-26?adjust_creative=xozgoVO5XbSRaEUubsjpSQ&utm_campaign=yelp_api_v3&utm_medium=api_v3_business_search&utm_source=xozgoVO5XbSRaEUubsjpSQ',\n",
       "  'review_count': 99,\n",
       "  'categories': [{'alias': 'pizza', 'title': 'Pizza'}],\n",
       "  'rating': 3.5,\n",
       "  'coordinates': {'latitude': 47.6254949, 'longitude': -122.2928304},\n",
       "  'transactions': ['delivery'],\n",
       "  'price': '$$',\n",
       "  'location': {'address1': '3015 E Madison St',\n",
       "   'address2': '',\n",
       "   'address3': '',\n",
       "   'city': 'Seattle',\n",
       "   'zip_code': '98112',\n",
       "   'country': 'US',\n",
       "   'state': 'WA',\n",
       "   'display_address': ['3015 E Madison St', 'Seattle, WA 98112']},\n",
       "  'phone': '+12067261717',\n",
       "  'display_phone': '(206) 726-1717',\n",
       "  'distance': 1395.266331559967},\n",
       " {'id': 'GJdmwqqkC0nAQfX1qZM3ew',\n",
       "  'alias': 'olympia-pizza-and-spaghetti-house-iii-seattle',\n",
       "  'name': 'Olympia Pizza and Spaghetti House III',\n",
       "  'image_url': 'https://s3-media1.fl.yelpcdn.com/bphoto/KvTgMAozPm_HQGaBsfGELQ/o.jpg',\n",
       "  'is_closed': False,\n",
       "  'url': 'https://www.yelp.com/biz/olympia-pizza-and-spaghetti-house-iii-seattle?adjust_creative=xozgoVO5XbSRaEUubsjpSQ&utm_campaign=yelp_api_v3&utm_medium=api_v3_business_search&utm_source=xozgoVO5XbSRaEUubsjpSQ',\n",
       "  'review_count': 298,\n",
       "  'categories': [{'alias': 'pizza', 'title': 'Pizza'},\n",
       "   {'alias': 'italian', 'title': 'Italian'}],\n",
       "  'rating': 4.0,\n",
       "  'coordinates': {'latitude': 47.62383, 'longitude': -122.312445},\n",
       "  'transactions': ['delivery'],\n",
       "  'price': '$$',\n",
       "  'location': {'address1': '516 15th Ave E',\n",
       "   'address2': '',\n",
       "   'address3': '',\n",
       "   'city': 'Seattle',\n",
       "   'zip_code': '98112',\n",
       "   'country': 'US',\n",
       "   'state': 'WA',\n",
       "   'display_address': ['516 15th Ave E', 'Seattle, WA 98112']},\n",
       "  'phone': '+12063294500',\n",
       "  'display_phone': '(206) 329-4500',\n",
       "  'distance': 1732.8743834241322},\n",
       " {'id': 'Ss_66zV-zhK_57_6MgV93w',\n",
       "  'alias': 'aglio-e-olio-seattle',\n",
       "  'name': 'Aglio e Olio',\n",
       "  'image_url': 'https://s3-media2.fl.yelpcdn.com/bphoto/inrSl1hdg0l2L3mYz3-fVg/o.jpg',\n",
       "  'is_closed': False,\n",
       "  'url': 'https://www.yelp.com/biz/aglio-e-olio-seattle?adjust_creative=xozgoVO5XbSRaEUubsjpSQ&utm_campaign=yelp_api_v3&utm_medium=api_v3_business_search&utm_source=xozgoVO5XbSRaEUubsjpSQ',\n",
       "  'review_count': 273,\n",
       "  'categories': [{'alias': 'italian', 'title': 'Italian'},\n",
       "   {'alias': 'pizza', 'title': 'Pizza'},\n",
       "   {'alias': 'sandwiches', 'title': 'Sandwiches'}],\n",
       "  'rating': 4.5,\n",
       "  'coordinates': {'latitude': 47.62328027309258, 'longitude': -122.2959905},\n",
       "  'transactions': ['delivery'],\n",
       "  'price': '$$',\n",
       "  'location': {'address1': '2743 E Madison St',\n",
       "   'address2': '',\n",
       "   'address3': '',\n",
       "   'city': 'Seattle',\n",
       "   'zip_code': '98112',\n",
       "   'country': 'US',\n",
       "   'state': 'WA',\n",
       "   'display_address': ['2743 E Madison St', 'Seattle, WA 98112']},\n",
       "  'phone': '',\n",
       "  'display_phone': '',\n",
       "  'distance': 1132.7432073522853},\n",
       " {'id': 'cAFXng3Gr1cBCFkP1VIxng',\n",
       "  'alias': 'the-independent-pizzeria-seattle-2',\n",
       "  'name': 'The Independent Pizzeria',\n",
       "  'image_url': 'https://s3-media4.fl.yelpcdn.com/bphoto/4gIuisTnhbj8O3O09yLcrg/o.jpg',\n",
       "  'is_closed': False,\n",
       "  'url': 'https://www.yelp.com/biz/the-independent-pizzeria-seattle-2?adjust_creative=xozgoVO5XbSRaEUubsjpSQ&utm_campaign=yelp_api_v3&utm_medium=api_v3_business_search&utm_source=xozgoVO5XbSRaEUubsjpSQ',\n",
       "  'review_count': 180,\n",
       "  'categories': [{'alias': 'pizza', 'title': 'Pizza'},\n",
       "   {'alias': 'italian', 'title': 'Italian'}],\n",
       "  'rating': 4.0,\n",
       "  'coordinates': {'latitude': 47.636044, 'longitude': -122.277377},\n",
       "  'transactions': ['delivery'],\n",
       "  'price': '$$',\n",
       "  'location': {'address1': '4235 E Madison St',\n",
       "   'address2': '',\n",
       "   'address3': '',\n",
       "   'city': 'Seattle',\n",
       "   'zip_code': '98112',\n",
       "   'country': 'US',\n",
       "   'state': 'WA',\n",
       "   'display_address': ['4235 E Madison St', 'Seattle, WA 98112']},\n",
       "  'phone': '+12068606110',\n",
       "  'display_phone': '(206) 860-6110',\n",
       "  'distance': 2897.2528438366567},\n",
       " {'id': 'n6BLr6spgjVWqzUwmVx0bg',\n",
       "  'alias': 'johnny-mos-pizzeria-seattle',\n",
       "  'name': \"Johnny Mo's Pizzeria\",\n",
       "  'image_url': 'https://s3-media4.fl.yelpcdn.com/bphoto/8IAnDPt0FWQNx9pLvuSbNg/o.jpg',\n",
       "  'is_closed': False,\n",
       "  'url': 'https://www.yelp.com/biz/johnny-mos-pizzeria-seattle?adjust_creative=xozgoVO5XbSRaEUubsjpSQ&utm_campaign=yelp_api_v3&utm_medium=api_v3_business_search&utm_source=xozgoVO5XbSRaEUubsjpSQ',\n",
       "  'review_count': 149,\n",
       "  'categories': [{'alias': 'pizza', 'title': 'Pizza'}],\n",
       "  'rating': 4.5,\n",
       "  'coordinates': {'latitude': 47.65142, 'longitude': -122.32083},\n",
       "  'transactions': ['delivery', 'pickup'],\n",
       "  'price': '$$',\n",
       "  'location': {'address1': '3272 Fuhrman Ave E',\n",
       "   'address2': 'Ste 100',\n",
       "   'address3': None,\n",
       "   'city': 'Seattle',\n",
       "   'zip_code': '98102',\n",
       "   'country': 'US',\n",
       "   'state': 'WA',\n",
       "   'display_address': ['3272 Fuhrman Ave E', 'Ste 100', 'Seattle, WA 98102']},\n",
       "  'phone': '+12068226272',\n",
       "  'display_phone': '(206) 822-6272',\n",
       "  'distance': 4658.301257471318},\n",
       " {'id': 'JgBVV2UhZjfzykxoLPvIpA',\n",
       "  'alias': 'big-marios-new-york-style-pizza-seattle-3',\n",
       "  'name': \"Big Mario's New York Style Pizza\",\n",
       "  'image_url': 'https://s3-media4.fl.yelpcdn.com/bphoto/tAypGoL0w3tDvw7q-YhMOQ/o.jpg',\n",
       "  'is_closed': False,\n",
       "  'url': 'https://www.yelp.com/biz/big-marios-new-york-style-pizza-seattle-3?adjust_creative=xozgoVO5XbSRaEUubsjpSQ&utm_campaign=yelp_api_v3&utm_medium=api_v3_business_search&utm_source=xozgoVO5XbSRaEUubsjpSQ',\n",
       "  'review_count': 631,\n",
       "  'categories': [{'alias': 'pizza', 'title': 'Pizza'}],\n",
       "  'rating': 3.5,\n",
       "  'coordinates': {'latitude': 47.61376, 'longitude': -122.31886},\n",
       "  'transactions': ['delivery', 'pickup'],\n",
       "  'price': '$',\n",
       "  'location': {'address1': '1009 E Pike St',\n",
       "   'address2': '',\n",
       "   'address3': '',\n",
       "   'city': 'Seattle',\n",
       "   'zip_code': '98122',\n",
       "   'country': 'US',\n",
       "   'state': 'WA',\n",
       "   'display_address': ['1009 E Pike St', 'Seattle, WA 98122']},\n",
       "  'phone': '+12069223875',\n",
       "  'display_phone': '(206) 922-3875',\n",
       "  'distance': 1732.560519116234},\n",
       " {'id': 'QeeiVw_OjxWmTiSH0A6qgA',\n",
       "  'alias': 'rione-xiii-seattle',\n",
       "  'name': 'Rione XIII',\n",
       "  'image_url': 'https://s3-media2.fl.yelpcdn.com/bphoto/ENHXwcE5Ebz4VJATt_X35A/o.jpg',\n",
       "  'is_closed': False,\n",
       "  'url': 'https://www.yelp.com/biz/rione-xiii-seattle?adjust_creative=xozgoVO5XbSRaEUubsjpSQ&utm_campaign=yelp_api_v3&utm_medium=api_v3_business_search&utm_source=xozgoVO5XbSRaEUubsjpSQ',\n",
       "  'review_count': 411,\n",
       "  'categories': [{'alias': 'pizza', 'title': 'Pizza'},\n",
       "   {'alias': 'italian', 'title': 'Italian'}],\n",
       "  'rating': 4.0,\n",
       "  'coordinates': {'latitude': 47.6220785, 'longitude': -122.3128054},\n",
       "  'transactions': ['delivery', 'restaurant_reservation', 'pickup'],\n",
       "  'price': '$$',\n",
       "  'location': {'address1': '401 15th Ave E',\n",
       "   'address2': '',\n",
       "   'address3': '',\n",
       "   'city': 'Seattle',\n",
       "   'zip_code': '98112',\n",
       "   'country': 'US',\n",
       "   'state': 'WA',\n",
       "   'display_address': ['401 15th Ave E', 'Seattle, WA 98112']},\n",
       "  'phone': '+12068382878',\n",
       "  'display_phone': '(206) 838-2878',\n",
       "  'distance': 1626.1908343986518},\n",
       " {'id': '1rkgyfwzXG7qSdVZdfRt7g',\n",
       "  'alias': 'roccos-seattle',\n",
       "  'name': \"Rocco's\",\n",
       "  'image_url': 'https://s3-media3.fl.yelpcdn.com/bphoto/AWBXTETwVoCALRNEO_f3eQ/o.jpg',\n",
       "  'is_closed': False,\n",
       "  'url': 'https://www.yelp.com/biz/roccos-seattle?adjust_creative=xozgoVO5XbSRaEUubsjpSQ&utm_campaign=yelp_api_v3&utm_medium=api_v3_business_search&utm_source=xozgoVO5XbSRaEUubsjpSQ',\n",
       "  'review_count': 1763,\n",
       "  'categories': [{'alias': 'bars', 'title': 'Bars'},\n",
       "   {'alias': 'pizza', 'title': 'Pizza'}],\n",
       "  'rating': 4.0,\n",
       "  'coordinates': {'latitude': 47.614470434736106,\n",
       "   'longitude': -122.34606443927872},\n",
       "  'transactions': ['delivery', 'pickup'],\n",
       "  'price': '$$',\n",
       "  'location': {'address1': '2312 2nd Ave',\n",
       "   'address2': '',\n",
       "   'address3': '',\n",
       "   'city': 'Seattle',\n",
       "   'zip_code': '98121',\n",
       "   'country': 'US',\n",
       "   'state': 'WA',\n",
       "   'display_address': ['2312 2nd Ave', 'Seattle, WA 98121']},\n",
       "  'phone': '+12063974210',\n",
       "  'display_phone': '(206) 397-4210',\n",
       "  'distance': 3779.508799794575},\n",
       " {'id': 'PpAiLhErwd08QhPb06_-hA',\n",
       "  'alias': 'mioposto-seattle-7',\n",
       "  'name': 'Mioposto',\n",
       "  'image_url': 'https://s3-media1.fl.yelpcdn.com/bphoto/gWBw_lWXRC-95u0hh796mg/o.jpg',\n",
       "  'is_closed': False,\n",
       "  'url': 'https://www.yelp.com/biz/mioposto-seattle-7?adjust_creative=xozgoVO5XbSRaEUubsjpSQ&utm_campaign=yelp_api_v3&utm_medium=api_v3_business_search&utm_source=xozgoVO5XbSRaEUubsjpSQ',\n",
       "  'review_count': 399,\n",
       "  'categories': [{'alias': 'italian', 'title': 'Italian'},\n",
       "   {'alias': 'pizza', 'title': 'Pizza'},\n",
       "   {'alias': 'breakfast_brunch', 'title': 'Breakfast & Brunch'}],\n",
       "  'rating': 4.0,\n",
       "  'coordinates': {'latitude': 47.57802, 'longitude': -122.28808},\n",
       "  'transactions': ['delivery', 'pickup'],\n",
       "  'price': '$$',\n",
       "  'location': {'address1': '3601 S McClellan St',\n",
       "   'address2': None,\n",
       "   'address3': '',\n",
       "   'city': 'Seattle',\n",
       "   'zip_code': '98144',\n",
       "   'country': 'US',\n",
       "   'state': 'WA',\n",
       "   'display_address': ['3601 S McClellan St', 'Seattle, WA 98144']},\n",
       "  'phone': '+12067603400',\n",
       "  'display_phone': '(206) 760-3400',\n",
       "  'distance': 3941.6634321994184},\n",
       " {'id': 'HeJP0ZS0tCCn-X9ezYSz3g',\n",
       "  'alias': 'ian-s-pizza-on-the-hill-seattle',\n",
       "  'name': 'Ian’s Pizza on the Hill',\n",
       "  'image_url': 'https://s3-media1.fl.yelpcdn.com/bphoto/gD-SKufIg_thSEXBDpDtng/o.jpg',\n",
       "  'is_closed': False,\n",
       "  'url': 'https://www.yelp.com/biz/ian-s-pizza-on-the-hill-seattle?adjust_creative=xozgoVO5XbSRaEUubsjpSQ&utm_campaign=yelp_api_v3&utm_medium=api_v3_business_search&utm_source=xozgoVO5XbSRaEUubsjpSQ',\n",
       "  'review_count': 307,\n",
       "  'categories': [{'alias': 'pizza', 'title': 'Pizza'},\n",
       "   {'alias': 'newamerican', 'title': 'American (New)'},\n",
       "   {'alias': 'hotdogs', 'title': 'Fast Food'}],\n",
       "  'rating': 4.0,\n",
       "  'coordinates': {'latitude': 47.615894, 'longitude': -122.320476},\n",
       "  'transactions': ['delivery', 'pickup'],\n",
       "  'price': '$',\n",
       "  'location': {'address1': '1620 Broadway',\n",
       "   'address2': '',\n",
       "   'address3': '',\n",
       "   'city': 'Seattle',\n",
       "   'zip_code': '98122',\n",
       "   'country': 'US',\n",
       "   'state': 'WA',\n",
       "   'display_address': ['1620 Broadway', 'Seattle, WA 98122']},\n",
       "  'phone': '+12066594721',\n",
       "  'display_phone': '(206) 659-4721',\n",
       "  'distance': 1884.1780309728},\n",
       " {'id': '91q2mxR0R6d-HAHFnmePyg',\n",
       "  'alias': 'zeeks-pizza-seattle-18',\n",
       "  'name': 'Zeeks Pizza',\n",
       "  'image_url': 'https://s3-media2.fl.yelpcdn.com/bphoto/8U988t-2r5Hgu-zzKZ2KnQ/o.jpg',\n",
       "  'is_closed': False,\n",
       "  'url': 'https://www.yelp.com/biz/zeeks-pizza-seattle-18?adjust_creative=xozgoVO5XbSRaEUubsjpSQ&utm_campaign=yelp_api_v3&utm_medium=api_v3_business_search&utm_source=xozgoVO5XbSRaEUubsjpSQ',\n",
       "  'review_count': 94,\n",
       "  'categories': [{'alias': 'pizza', 'title': 'Pizza'}],\n",
       "  'rating': 3.5,\n",
       "  'coordinates': {'latitude': 47.6245449, 'longitude': -122.3081645},\n",
       "  'transactions': ['delivery', 'pickup'],\n",
       "  'location': {'address1': '1830 E Mercer St',\n",
       "   'address2': None,\n",
       "   'address3': '',\n",
       "   'city': 'Seattle',\n",
       "   'zip_code': '98112',\n",
       "   'country': 'US',\n",
       "   'state': 'WA',\n",
       "   'display_address': ['1830 E Mercer St', 'Seattle, WA 98112']},\n",
       "  'phone': '+12064575997',\n",
       "  'display_phone': '(206) 457-5997',\n",
       "  'distance': 1554.2138613942195}]"
      ]
     },
     "execution_count": 40,
     "metadata": {},
     "output_type": "execute_result"
    }
   ],
   "source": [
    "results['businesses']"
   ]
  },
  {
   "cell_type": "code",
   "execution_count": 43,
   "metadata": {
    "ExecuteTime": {
     "end_time": "2022-03-24T20:01:48.867510Z",
     "start_time": "2022-03-24T20:01:48.854746Z"
    },
    "colab": {
     "base_uri": "https://localhost:8080/"
    },
    "id": "Myur3i1KGhPf",
    "outputId": "f447c6f9-596b-41d0-ccda-50af0ce82108"
   },
   "outputs": [
    {
     "name": "stdout",
     "output_type": "stream",
     "text": [
      "<class 'pandas.core.frame.DataFrame'>\n",
      "RangeIndex: 20 entries, 0 to 19\n",
      "Data columns (total 16 columns):\n",
      " #   Column         Non-Null Count  Dtype  \n",
      "---  ------         --------------  -----  \n",
      " 0   id             20 non-null     object \n",
      " 1   alias          20 non-null     object \n",
      " 2   name           20 non-null     object \n",
      " 3   image_url      20 non-null     object \n",
      " 4   is_closed      20 non-null     bool   \n",
      " 5   url            20 non-null     object \n",
      " 6   review_count   20 non-null     int64  \n",
      " 7   categories     20 non-null     object \n",
      " 8   rating         20 non-null     float64\n",
      " 9   coordinates    20 non-null     object \n",
      " 10  transactions   20 non-null     object \n",
      " 11  location       20 non-null     object \n",
      " 12  phone          20 non-null     object \n",
      " 13  display_phone  20 non-null     object \n",
      " 14  distance       20 non-null     float64\n",
      " 15  price          16 non-null     object \n",
      "dtypes: bool(1), float64(2), int64(1), object(12)\n",
      "memory usage: 2.5+ KB\n"
     ]
    }
   ],
   "source": [
    "## How many results total?\n",
    "df = pd.DataFrame(results['businesses'])\n",
    "df.info()"
   ]
  },
  {
   "cell_type": "markdown",
   "metadata": {},
   "source": [
    "- Where is the actual data we want to save?"
   ]
  },
  {
   "cell_type": "code",
   "execution_count": null,
   "metadata": {},
   "outputs": [],
   "source": []
  },
  {
   "cell_type": "code",
   "execution_count": 53,
   "metadata": {},
   "outputs": [
    {
     "data": {
      "text/plain": [
       "20"
      ]
     },
     "execution_count": 53,
     "metadata": {},
     "output_type": "execute_result"
    }
   ],
   "source": [
    "## How many did we get the details for?\n",
    "results_per_page = len(results['businesses'])\n",
    "results_per_page"
   ]
  },
  {
   "cell_type": "markdown",
   "metadata": {},
   "source": [
    "- Calculate how many pages of results needed to cover the total_results"
   ]
  },
  {
   "cell_type": "code",
   "execution_count": 52,
   "metadata": {},
   "outputs": [
    {
     "data": {
      "text/plain": [
       "43"
      ]
     },
     "execution_count": 52,
     "metadata": {},
     "output_type": "execute_result"
    }
   ],
   "source": [
    "# Import additional packages for controlling our loop\n",
    "import time, math\n",
    "# Use math.ceil to round up for the total number of pages of results.\n",
    "n_pages = math.ceil((results['total']-n_results)/ results_per_page)\n",
    "n_pages"
   ]
  },
  {
   "cell_type": "code",
   "execution_count": 54,
   "metadata": {},
   "outputs": [
    {
     "data": {
      "application/vnd.jupyter.widget-view+json": {
       "model_id": "8ad58d72ce954fde843963395db9cf09",
       "version_major": 2,
       "version_minor": 0
      },
      "text/plain": [
       "  0%|          | 0/43 [00:00<?, ?it/s]"
      ]
     },
     "metadata": {},
     "output_type": "display_data"
    },
    {
     "name": "stdout",
     "output_type": "stream",
     "text": [
      "[!] ERROR:  Expecting value: line 1 column 1 (char 0)\n",
      "[!] ERROR:  Expecting value: line 1 column 1 (char 0)\n",
      "[!] ERROR:  Expecting value: line 1 column 1 (char 0)\n",
      "[!] ERROR:  Expecting value: line 1 column 1 (char 0)\n",
      "[!] ERROR:  Expecting value: line 1 column 1 (char 0)\n",
      "[!] ERROR:  Expecting value: line 1 column 1 (char 0)\n",
      "[!] ERROR:  Expecting value: line 1 column 1 (char 0)\n",
      "[!] ERROR:  Expecting value: line 1 column 1 (char 0)\n",
      "[!] ERROR:  Expecting value: line 1 column 1 (char 0)\n",
      "[!] ERROR:  Expecting value: line 1 column 1 (char 0)\n",
      "[!] ERROR:  Expecting value: line 1 column 1 (char 0)\n",
      "[!] ERROR:  Expecting value: line 1 column 1 (char 0)\n",
      "[!] ERROR:  Expecting value: line 1 column 1 (char 0)\n",
      "[!] ERROR:  Expecting value: line 1 column 1 (char 0)\n",
      "[!] ERROR:  Expecting value: line 1 column 1 (char 0)\n",
      "[!] ERROR:  Expecting value: line 1 column 1 (char 0)\n",
      "[!] ERROR:  Expecting value: line 1 column 1 (char 0)\n",
      "[!] ERROR:  Expecting value: line 1 column 1 (char 0)\n",
      "[!] ERROR:  Expecting value: line 1 column 1 (char 0)\n",
      "[!] ERROR:  Expecting value: line 1 column 1 (char 0)\n",
      "[!] ERROR:  Expecting value: line 1 column 1 (char 0)\n",
      "[!] ERROR:  Expecting value: line 1 column 1 (char 0)\n",
      "[!] ERROR:  Expecting value: line 1 column 1 (char 0)\n",
      "[!] ERROR:  Expecting value: line 1 column 1 (char 0)\n",
      "[!] ERROR:  Expecting value: line 1 column 1 (char 0)\n",
      "[!] ERROR:  Expecting value: line 1 column 1 (char 0)\n",
      "[!] ERROR:  Expecting value: line 1 column 1 (char 0)\n",
      "[!] ERROR:  Expecting value: line 1 column 1 (char 0)\n",
      "[!] ERROR:  Expecting value: line 1 column 1 (char 0)\n",
      "[!] ERROR:  Expecting value: line 1 column 1 (char 0)\n",
      "[!] ERROR:  Expecting value: line 1 column 1 (char 0)\n",
      "[!] ERROR:  Expecting value: line 1 column 1 (char 0)\n",
      "[!] ERROR:  Expecting value: line 1 column 1 (char 0)\n",
      "[!] ERROR:  Expecting value: line 1 column 1 (char 0)\n",
      "[!] ERROR:  Expecting value: line 1 column 1 (char 0)\n",
      "[!] ERROR:  Expecting value: line 1 column 1 (char 0)\n",
      "[!] ERROR:  Expecting value: line 1 column 1 (char 0)\n",
      "[!] ERROR:  Expecting value: line 1 column 1 (char 0)\n",
      "[!] ERROR:  Expecting value: line 1 column 1 (char 0)\n",
      "[!] ERROR:  Expecting value: line 1 column 1 (char 0)\n",
      "[!] ERROR:  Expecting value: line 1 column 1 (char 0)\n",
      "[!] ERROR:  Expecting value: line 1 column 1 (char 0)\n",
      "[!] ERROR:  Expecting value: line 1 column 1 (char 0)\n"
     ]
    }
   ],
   "source": [
    "for i in tqdm_notebook( range(1,n_pages+1)):\n",
    "    ## The block of code we want to TRY to run\n",
    "    try:\n",
    "        \n",
    "        time.sleep(.2)\n",
    "        \n",
    "        ## Read in results in progress file and check the length\n",
    "        with open(JSON_FILE, 'r') as f:\n",
    "            previous_results = json.load(f)\n",
    "            \n",
    "        ## save number of results for to use as offset\n",
    "        n_results = len(previous_results)\n",
    "        \n",
    "        \n",
    "        ## use n_results as the OFFSET \n",
    "        results = yelp_api.search_query(location=LOCATION,\n",
    "                                        term=TERM, \n",
    "                                        offset=n_results+1)\n",
    "\n",
    "        ## append new results and save to file\n",
    "        previous_results.extend(results['businesses'])\n",
    "\n",
    "        with open(JSON_FILE,'w') as f:\n",
    "            json.dump(previous_results,f)\n",
    "            \n",
    "    ## What to do if we get an error/exception.\n",
    "    except Exception as e: # saving the error message so we can print it.\n",
    "        print('[!] ERROR: ',e)\n"
   ]
  },
  {
   "cell_type": "markdown",
   "metadata": {},
   "source": [
    "## Open the Final JSON File with Pandas"
   ]
  },
  {
   "cell_type": "code",
   "execution_count": 55,
   "metadata": {},
   "outputs": [
    {
     "ename": "ValueError",
     "evalue": "DataFrame constructor not properly called!",
     "output_type": "error",
     "traceback": [
      "\u001b[1;31m---------------------------------------------------------------------------\u001b[0m",
      "\u001b[1;31mValueError\u001b[0m                                Traceback (most recent call last)",
      "Cell \u001b[1;32mIn [55], line 1\u001b[0m\n\u001b[1;32m----> 1\u001b[0m df \u001b[38;5;241m=\u001b[39m \u001b[43mpd\u001b[49m\u001b[38;5;241;43m.\u001b[39;49m\u001b[43mDataFrame\u001b[49m\u001b[43m(\u001b[49m\u001b[43mJSON_FILE\u001b[49m\u001b[43m)\u001b[49m\n",
      "File \u001b[1;32m~\\anaconda3\\envs\\dojo-env\\lib\\site-packages\\pandas\\core\\frame.py:780\u001b[0m, in \u001b[0;36mDataFrame.__init__\u001b[1;34m(self, data, index, columns, dtype, copy)\u001b[0m\n\u001b[0;32m    777\u001b[0m \u001b[38;5;66;03m# For data is scalar\u001b[39;00m\n\u001b[0;32m    778\u001b[0m \u001b[38;5;28;01melse\u001b[39;00m:\n\u001b[0;32m    779\u001b[0m     \u001b[38;5;28;01mif\u001b[39;00m index \u001b[38;5;129;01mis\u001b[39;00m \u001b[38;5;28;01mNone\u001b[39;00m \u001b[38;5;129;01mor\u001b[39;00m columns \u001b[38;5;129;01mis\u001b[39;00m \u001b[38;5;28;01mNone\u001b[39;00m:\n\u001b[1;32m--> 780\u001b[0m         \u001b[38;5;28;01mraise\u001b[39;00m \u001b[38;5;167;01mValueError\u001b[39;00m(\u001b[38;5;124m\"\u001b[39m\u001b[38;5;124mDataFrame constructor not properly called!\u001b[39m\u001b[38;5;124m\"\u001b[39m)\n\u001b[0;32m    782\u001b[0m     index \u001b[38;5;241m=\u001b[39m ensure_index(index)\n\u001b[0;32m    783\u001b[0m     columns \u001b[38;5;241m=\u001b[39m ensure_index(columns)\n",
      "\u001b[1;31mValueError\u001b[0m: DataFrame constructor not properly called!"
     ]
    }
   ],
   "source": [
    "df = pd.DataFrame(JSON_FILE)"
   ]
  },
  {
   "cell_type": "code",
   "execution_count": null,
   "metadata": {},
   "outputs": [],
   "source": []
  },
  {
   "cell_type": "code",
   "execution_count": null,
   "metadata": {},
   "outputs": [],
   "source": [
    "## convert the filename to a .csv.gz\n",
    "csv_file = JSON_FILE.replace('.json','.csv.gz')\n",
    "csv_file"
   ]
  },
  {
   "cell_type": "code",
   "execution_count": null,
   "metadata": {},
   "outputs": [],
   "source": [
    "## Save it as a compressed csv (to save space)\n",
    "df.to_csv(csv_file, compression='gzip', index=False)"
   ]
  },
  {
   "cell_type": "markdown",
   "metadata": {},
   "source": [
    "## Bonus: compare filesize with os module's `os.path.getsize`"
   ]
  },
  {
   "cell_type": "code",
   "execution_count": null,
   "metadata": {},
   "outputs": [],
   "source": [
    "size_json = os.path.getsize(JSON_FILE)\n",
    "size_csv_gz = os.path.getsize(JSON_FILE.replace('.json','.csv.gz'))\n",
    "\n",
    "print(f'JSON FILE: {size_json:,} Bytes')\n",
    "print(f'CSV.GZ FILE: {size_csv_gz:,} Bytes')\n",
    "\n",
    "print(f'the csv.gz is {size_json/size_csv_gz} times smaller!')"
   ]
  },
  {
   "cell_type": "markdown",
   "metadata": {},
   "source": [
    "## Next Class: Processing the Results and Mapping "
   ]
  }
 ],
 "metadata": {
  "colab": {
   "collapsed_sections": [],
   "name": "Test Yelp API Package.ipynb",
   "provenance": []
  },
  "kernelspec": {
   "display_name": "Python (dojo-env)",
   "language": "python",
   "name": "dojo-env"
  },
  "language_info": {
   "codemirror_mode": {
    "name": "ipython",
    "version": 3
   },
   "file_extension": ".py",
   "mimetype": "text/x-python",
   "name": "python",
   "nbconvert_exporter": "python",
   "pygments_lexer": "ipython3",
   "version": "3.9.15"
  },
  "toc": {
   "base_numbering": 1,
   "nav_menu": {},
   "number_sections": false,
   "sideBar": true,
   "skip_h1_title": false,
   "title_cell": "Table of Contents",
   "title_sidebar": "Contents",
   "toc_cell": false,
   "toc_position": {},
   "toc_section_display": true,
   "toc_window_display": false
  }
 },
 "nbformat": 4,
 "nbformat_minor": 1
}
